{
  "nbformat": 4,
  "nbformat_minor": 0,
  "metadata": {
    "colab": {
      "name": "Untitled0.ipynb",
      "provenance": [],
      "mount_file_id": "1FS7rfiRcGj5FEm0tcOkiuWr3kD9OsWQy",
      "authorship_tag": "ABX9TyOLdiKS/n8bRjblNg5CLaka",
      "include_colab_link": true
    },
    "kernelspec": {
      "name": "python3",
      "display_name": "Python 3"
    },
    "accelerator": "GPU"
  },
  "cells": [
    {
      "cell_type": "markdown",
      "metadata": {
        "id": "view-in-github",
        "colab_type": "text"
      },
      "source": [
        "<a href=\"https://colab.research.google.com/github/AakashTiwari26/project/blob/main/Project0.ipynb\" target=\"_parent\"><img src=\"https://colab.research.google.com/assets/colab-badge.svg\" alt=\"Open In Colab\"/></a>"
      ]
    },
    {
      "cell_type": "code",
      "metadata": {
        "colab": {
          "base_uri": "https://localhost:8080/"
        },
        "id": "4q0EUvbQPiHA",
        "outputId": "34791d63-698d-464c-ffe3-74b95703932d"
      },
      "source": [
        "from google.colab import drive\n",
        "drive.mount('/content/drive')"
      ],
      "execution_count": null,
      "outputs": [
        {
          "output_type": "stream",
          "text": [
            "Drive already mounted at /content/drive; to attempt to forcibly remount, call drive.mount(\"/content/drive\", force_remount=True).\n"
          ],
          "name": "stdout"
        }
      ]
    },
    {
      "cell_type": "code",
      "metadata": {
        "colab": {
          "base_uri": "https://localhost:8080/"
        },
        "id": "Q5ANJuCTOUTX",
        "outputId": "f14b61e4-0637-4ffe-efb9-744a7216fee4"
      },
      "source": [
        "import os\r\n",
        "print(os.getcwd())"
      ],
      "execution_count": null,
      "outputs": [
        {
          "output_type": "stream",
          "text": [
            "/content\n"
          ],
          "name": "stdout"
        }
      ]
    },
    {
      "cell_type": "code",
      "metadata": {
        "id": "9pkQM1I8SwN0"
      },
      "source": [
        "os.chdir('/content/drive/MyDrive/datasets')"
      ],
      "execution_count": null,
      "outputs": []
    },
    {
      "cell_type": "code",
      "metadata": {
        "colab": {
          "base_uri": "https://localhost:8080/"
        },
        "id": "dt9uOJCdTCBD",
        "outputId": "f8f86591-649f-4f33-9bb6-dbd9f76a734a"
      },
      "source": [
        "print(os.getcwd())"
      ],
      "execution_count": null,
      "outputs": [
        {
          "output_type": "stream",
          "text": [
            "/content/drive/MyDrive/datasets\n"
          ],
          "name": "stdout"
        }
      ]
    },
    {
      "cell_type": "code",
      "metadata": {
        "colab": {
          "base_uri": "https://localhost:8080/"
        },
        "id": "9MNUEeImTTg9",
        "outputId": "31e08578-c007-419e-d318-75dc793e8e6d"
      },
      "source": [
        "print(os.listdir())"
      ],
      "execution_count": null,
      "outputs": [
        {
          "output_type": "stream",
          "text": [
            "['festival', 'train', 'cat', 'machine', 'motor sport', 'mobile phone', 'motorcycle', 'personal computer', 'dog', 'vehicle', 'car', 'boat', 'animal', 'bicycle', 'cartoon']\n"
          ],
          "name": "stdout"
        }
      ]
    },
    {
      "cell_type": "code",
      "metadata": {
        "colab": {
          "base_uri": "https://localhost:8080/",
          "height": 1000
        },
        "id": "XUHf74BkTacz",
        "outputId": "10f0db84-5163-4b3c-8d13-090d6082559f"
      },
      "source": [
        "import keras\r\n",
        "from keras import applications\r\n",
        "from keras.preprocessing.image import ImageDataGenerator\r\n",
        "from keras import optimizers\r\n",
        "from keras.models import Sequential, Model \r\n",
        "from keras.layers import *\r\n",
        "from keras.callbacks import ModelCheckpoint, LearningRateScheduler, TensorBoard, EarlyStopping\r\n",
        " \r\n",
        "import os\r\n",
        "import cv2\r\n",
        "import numpy as np\r\n",
        "from sklearn.model_selection import train_test_split\r\n",
        " \r\n",
        " \r\n",
        "from sklearn.metrics import accuracy_score\r\n",
        "from sklearn.metrics import precision_score\r\n",
        "from sklearn.metrics import recall_score\r\n",
        "from sklearn.metrics import f1_score\r\n",
        "from sklearn.metrics import cohen_kappa_score\r\n",
        "from sklearn.metrics import roc_auc_score\r\n",
        "from sklearn.metrics import multilabel_confusion_matrix\r\n",
        " \r\n",
        "data_dir = '/content/drive/MyDrive/datasets'\r\n",
        "img_height , img_width = 64, 64\r\n",
        "seq_len = 70\r\n",
        "classes=['cartoon','motor sport','animal','cat','train','machine','personal computer','boat','dog','festival','vehicle','car','mobile phone','motorcycle','bicycle'\r\n",
        "]\r\n",
        "def frames_extraction(video_path):\r\n",
        "    frames_list = []\r\n",
        "     \r\n",
        "    vidObj = cv2.VideoCapture(video_path)\r\n",
        "    # Used as counter variable \r\n",
        "    count = 1\r\n",
        " \r\n",
        "    while count <= seq_len: \r\n",
        "         \r\n",
        "        success, image = vidObj.read() \r\n",
        "        if success:\r\n",
        "            image = cv2.resize(image, (img_height, img_width))\r\n",
        "            frames_list.append(image)\r\n",
        "            count += 1\r\n",
        "        else:\r\n",
        "            print(\"Defected frame\")\r\n",
        "            break\r\n",
        " \r\n",
        "            \r\n",
        "    return frames_list\r\n",
        " \r\n",
        "def create_data(input_dir):\r\n",
        "    X = []\r\n",
        "    Y = []\r\n",
        "     \r\n",
        "    classes_list = os.listdir(input_dir)\r\n",
        "     \r\n",
        "    for c in classes_list:\r\n",
        "        print(c)\r\n",
        "        files_list = os.listdir(os.path.join(input_dir, c))\r\n",
        "        for f in files_list:\r\n",
        "           frames = frames_extraction(os.path.join(os.path.join(input_dir, c), f))\r\n",
        "           if len(frames) == seq_len:\r\n",
        "                X.append(frames)\r\n",
        "             \r\n",
        "                y = [0]*len(classes)\r\n",
        "                y[classes.index(c)] = 1\r\n",
        "                Y.append(y)\r\n",
        "     \r\n",
        "    X = np.asarray(X)\r\n",
        "    Y = np.asarray(Y)\r\n",
        "    return X, Y\r\n",
        " \r\n",
        "\r\n",
        "X, Y = create_data(data_dir)\r\n",
        " \r\n",
        "X_train, X_test, y_train, y_test = train_test_split(X, Y, test_size=0.20, shuffle=True, random_state=0)\r\n",
        " \r\n",
        "model = Sequential()\r\n",
        "model.add(ConvLSTM2D(filters = 64, kernel_size = (3, 3), return_sequences = False, data_format = \"channels_last\", input_shape = (seq_len, img_height, img_width, 3)))\r\n",
        "model.add(Dropout(0.2))\r\n",
        "model.add(Flatten())\r\n",
        "model.add(Dense(256, activation=\"relu\"))\r\n",
        "model.add(Dropout(0.3))\r\n",
        "model.add(Dense(15 , activation = \"softmax\"))\r\n",
        " \r\n",
        "model.summary()\r\n",
        " \r\n",
        "opt = keras.optimizers.SGD(lr=0.001)\r\n",
        "model.compile(loss='categorical_crossentropy', optimizer=opt, metrics=[\"accuracy\"])\r\n",
        " \r\n",
        "earlystop = EarlyStopping(patience=7)\r\n",
        "callbacks = [earlystop]\r\n",
        " \r\n",
        "history = model.fit(x = X_train, y = y_train, epochs=10, batch_size = 8 , shuffle=True, validation_split=0.2, callbacks=callbacks)\r\n",
        " \r\n",
        "y_pred = model.predict(X_test)\r\n",
        "\r\n",
        "y_pred = np.argmax(y_pred, axis = 1)\r\n",
        "y_test = np.argmax(y_test, axis = 1)\r\n",
        " \r\n"
      ],
      "execution_count": null,
      "outputs": [
        {
          "output_type": "stream",
          "text": [
            "festival\n",
            "train\n",
            "cat\n",
            "machine\n",
            "motor sport\n",
            "mobile phone\n",
            "motorcycle\n",
            "personal computer\n",
            "dog\n",
            "vehicle\n",
            "car\n",
            "boat\n",
            "animal\n",
            "bicycle\n",
            "cartoon\n",
            "Model: \"sequential_2\"\n",
            "_________________________________________________________________\n",
            "Layer (type)                 Output Shape              Param #   \n",
            "=================================================================\n",
            "conv_lst_m2d_2 (ConvLSTM2D)  (None, 62, 62, 64)        154624    \n",
            "_________________________________________________________________\n",
            "dropout_4 (Dropout)          (None, 62, 62, 64)        0         \n",
            "_________________________________________________________________\n",
            "flatten_2 (Flatten)          (None, 246016)            0         \n",
            "_________________________________________________________________\n",
            "dense_4 (Dense)              (None, 256)               62980352  \n",
            "_________________________________________________________________\n",
            "dropout_5 (Dropout)          (None, 256)               0         \n",
            "_________________________________________________________________\n",
            "dense_5 (Dense)              (None, 15)                3855      \n",
            "=================================================================\n",
            "Total params: 63,138,831\n",
            "Trainable params: 63,138,831\n",
            "Non-trainable params: 0\n",
            "_________________________________________________________________\n",
            "Epoch 1/10\n",
            "7/7 [==============================] - 9s 1s/step - loss: 3.3922 - accuracy: 0.0850 - val_loss: 3.5992 - val_accuracy: 0.0769\n",
            "Epoch 2/10\n",
            "7/7 [==============================] - 7s 1s/step - loss: 3.2394 - accuracy: 0.1214 - val_loss: 3.1347 - val_accuracy: 0.0000e+00\n",
            "Epoch 3/10\n",
            "7/7 [==============================] - 7s 1s/step - loss: 2.2236 - accuracy: 0.3670 - val_loss: 3.2997 - val_accuracy: 0.0000e+00\n",
            "Epoch 4/10\n",
            "7/7 [==============================] - 7s 1s/step - loss: 2.2879 - accuracy: 0.3351 - val_loss: 2.9765 - val_accuracy: 0.0769\n",
            "Epoch 5/10\n",
            "7/7 [==============================] - 7s 1s/step - loss: 1.8503 - accuracy: 0.4173 - val_loss: 3.5112 - val_accuracy: 0.0769\n",
            "Epoch 6/10\n",
            "7/7 [==============================] - 7s 1s/step - loss: 1.2431 - accuracy: 0.7125 - val_loss: 3.3412 - val_accuracy: 0.1538\n",
            "Epoch 7/10\n",
            "7/7 [==============================] - 7s 1s/step - loss: 1.0922 - accuracy: 0.7528 - val_loss: 3.4644 - val_accuracy: 0.1538\n",
            "Epoch 8/10\n",
            "7/7 [==============================] - 7s 1s/step - loss: 0.7467 - accuracy: 0.9418 - val_loss: 4.0604 - val_accuracy: 0.1538\n",
            "Epoch 9/10\n",
            "7/7 [==============================] - 7s 1s/step - loss: 0.8287 - accuracy: 0.8253 - val_loss: 3.2730 - val_accuracy: 0.2308\n",
            "Epoch 10/10\n",
            "7/7 [==============================] - 7s 1s/step - loss: 0.7071 - accuracy: 0.9384 - val_loss: 3.4527 - val_accuracy: 0.0769\n"
          ],
          "name": "stdout"
        },
        {
          "output_type": "error",
          "ename": "NameError",
          "evalue": "ignored",
          "traceback": [
            "\u001b[0;31m---------------------------------------------------------------------------\u001b[0m",
            "\u001b[0;31mNameError\u001b[0m                                 Traceback (most recent call last)",
            "\u001b[0;32m<ipython-input-8-0b59ae2e9e78>\u001b[0m in \u001b[0;36m<module>\u001b[0;34m()\u001b[0m\n\u001b[1;32m     97\u001b[0m \u001b[0my_test\u001b[0m \u001b[0;34m=\u001b[0m \u001b[0mnp\u001b[0m\u001b[0;34m.\u001b[0m\u001b[0margmax\u001b[0m\u001b[0;34m(\u001b[0m\u001b[0my_test\u001b[0m\u001b[0;34m,\u001b[0m \u001b[0maxis\u001b[0m \u001b[0;34m=\u001b[0m \u001b[0;36m1\u001b[0m\u001b[0;34m)\u001b[0m\u001b[0;34m\u001b[0m\u001b[0;34m\u001b[0m\u001b[0m\n\u001b[1;32m     98\u001b[0m \u001b[0;34m\u001b[0m\u001b[0m\n\u001b[0;32m---> 99\u001b[0;31m \u001b[0mprint\u001b[0m\u001b[0;34m(\u001b[0m\u001b[0mclassification_report\u001b[0m\u001b[0;34m(\u001b[0m\u001b[0my_test\u001b[0m\u001b[0;34m,\u001b[0m \u001b[0my_pred\u001b[0m\u001b[0;34m)\u001b[0m\u001b[0;34m)\u001b[0m\u001b[0;34m\u001b[0m\u001b[0;34m\u001b[0m\u001b[0m\n\u001b[0m",
            "\u001b[0;31mNameError\u001b[0m: name 'classification_report' is not defined"
          ]
        }
      ]
    },
    {
      "cell_type": "code",
      "metadata": {
        "colab": {
          "base_uri": "https://localhost:8080/"
        },
        "id": "87_ntRF9Wl5W",
        "outputId": "b481be34-0ef6-414e-d429-30c6dec56180"
      },
      "source": [
        "labels=[i for i in range(1,16)]\r\n",
        "print(labels)"
      ],
      "execution_count": null,
      "outputs": [
        {
          "output_type": "stream",
          "text": [
            "[1, 2, 3, 4, 5, 6, 7, 8, 9, 10, 11, 12, 13, 14, 15]\n"
          ],
          "name": "stdout"
        }
      ]
    },
    {
      "cell_type": "code",
      "metadata": {
        "colab": {
          "base_uri": "https://localhost:8080/"
        },
        "id": "PTuHvIXUWrT6",
        "outputId": "0264b093-c2cb-409d-e961-69cf089734e9"
      },
      "source": [
        "from sklearn.metrics import classification_report\r\n",
        "report=classification_report(y_test,y_pred,labels=labels)\r\n",
        "print(report)"
      ],
      "execution_count": null,
      "outputs": [
        {
          "output_type": "stream",
          "text": [
            "              precision    recall  f1-score   support\n",
            "\n",
            "           1       0.00      0.00      0.00         2\n",
            "           2       0.00      0.00      0.00         1\n",
            "           3       0.00      0.00      0.00         1\n",
            "           4       0.00      0.00      0.00         1\n",
            "           5       0.08      1.00      0.15         1\n",
            "           6       0.00      0.00      0.00         2\n",
            "           7       0.00      0.00      0.00         1\n",
            "           8       0.00      0.00      0.00         0\n",
            "           9       0.00      0.00      0.00         1\n",
            "          10       0.00      0.00      0.00         2\n",
            "          11       0.00      0.00      0.00         0\n",
            "          12       0.00      0.00      0.00         1\n",
            "          13       0.00      0.00      0.00         1\n",
            "          14       0.00      0.00      0.00         1\n",
            "          15       0.00      0.00      0.00         0\n",
            "\n",
            "   micro avg       0.06      0.07      0.06        15\n",
            "   macro avg       0.01      0.07      0.01        15\n",
            "weighted avg       0.01      0.07      0.01        15\n",
            "\n"
          ],
          "name": "stdout"
        },
        {
          "output_type": "stream",
          "text": [
            "/usr/local/lib/python3.7/dist-packages/sklearn/metrics/_classification.py:1272: UndefinedMetricWarning: Precision and F-score are ill-defined and being set to 0.0 in labels with no predicted samples. Use `zero_division` parameter to control this behavior.\n",
            "  _warn_prf(average, modifier, msg_start, len(result))\n",
            "/usr/local/lib/python3.7/dist-packages/sklearn/metrics/_classification.py:1272: UndefinedMetricWarning: Recall and F-score are ill-defined and being set to 0.0 in labels with no true samples. Use `zero_division` parameter to control this behavior.\n",
            "  _warn_prf(average, modifier, msg_start, len(result))\n"
          ],
          "name": "stderr"
        }
      ]
    },
    {
      "cell_type": "code",
      "metadata": {
        "id": "MqeWUbnMu29Y"
      },
      "source": [
        ""
      ],
      "execution_count": null,
      "outputs": []
    }
  ]
}